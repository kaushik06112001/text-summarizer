{
  "cells": [
    {
      "cell_type": "code",
      "execution_count": 3,
      "metadata": {
        "colab": {
          "base_uri": "https://localhost:8080/"
        },
        "id": "M2gs80st8Alm",
        "outputId": "377be74e-c12e-409b-cd4a-d27f719e3eed"
      },
      "outputs": [
        {
          "name": "stderr",
          "output_type": "stream",
          "text": [
            "[nltk_data] Downloading package punkt to\n",
            "[nltk_data]     C:\\Users\\hiten\\AppData\\Roaming\\nltk_data...\n",
            "[nltk_data]   Package punkt is already up-to-date!\n",
            "[nltk_data] Downloading package stopwords to\n",
            "[nltk_data]     C:\\Users\\hiten\\AppData\\Roaming\\nltk_data...\n",
            "[nltk_data]   Package stopwords is already up-to-date!\n"
          ]
        }
      ],
      "source": [
        "import nltk\n",
        "nltk.download('punkt')\n",
        "nltk.download('stopwords')\n",
        "from nltk.corpus import stopwords\n",
        "from nltk.tokenize import word_tokenize, sent_tokenize\n",
        "from nltk.probability import FreqDist\n",
        "\n",
        "\n"
      ]
    },
    {
      "cell_type": "code",
      "execution_count": 4,
      "metadata": {
        "id": "dDo2a2lW8chZ"
      },
      "outputs": [],
      "source": [
        "\n",
        "def text_summarizer(text, num_sentences=3):\n",
        "    # Tokenize text into sentences\n",
        "    sentences = sent_tokenize(text)\n",
        "\n",
        "    # Tokenize words and remove stopwords\n",
        "    words = word_tokenize(text)\n",
        "    stop_words = set(stopwords.words('english'))\n",
        "    words = [word for word in words if word.lower() not in stop_words and word.isalnum()]\n",
        "\n",
        "    # Calculate word frequency\n",
        "    freq_dist = FreqDist(words)\n",
        "\n",
        "    # Score sentences based on word frequency\n",
        "    sentence_scores = {}\n",
        "    for sentence in sentences: #to iterate through all the sentences\n",
        "        for word in word_tokenize(sentence.lower()): #to iterate through all the words in a sentence\n",
        "            if word in freq_dist: #to exclude the stopwords and only iterate through words that are in the freq distribution table\n",
        "                if sentence not in sentence_scores:             #if the sentence is not in the sentence_score dictionary put the freq of the word from the freq_dist table as value\n",
        "                    sentence_scores[sentence] = freq_dist[word] #against the sentence\n",
        "                else:                                           #else add the freq of the word t0 the sentence_score\n",
        "                    sentence_scores[sentence] += freq_dist[word]\n",
        "\n",
        "    # sort the sentences in descending order and select the required no. of sentences from the top\n",
        "    top_sentences = sorted(sentence_scores, key=sentence_scores.get, reverse=True)[:num_sentences] #sort the sentences in descending order and select the required no. of sentences\n",
        "\n",
        "    # Generate summary\n",
        "    summary = ' '.join(top_sentences)\n",
        "    return summary\n"
      ]
    },
    {
      "cell_type": "markdown",
      "metadata": {
        "id": "AP8Bl5SL7Z4V"
      },
      "source": [
        "to select the sentences that have the words with highest frequencies"
      ]
    },
    {
      "cell_type": "code",
      "execution_count": 5,
      "metadata": {
        "colab": {
          "base_uri": "https://localhost:8080/"
        },
        "id": "IrJRhm4i8hf3",
        "outputId": "565c82bb-ac99-422c-e782-49e02bbc236f"
      },
      "outputs": [
        {
          "name": "stdout",
          "output_type": "stream",
          "text": [
            "Here are several problems that can be tackled through this interdisciplinary approach:  Optimizing Energy Efficiency: Develop smart energy management systems and algorithms that utilize data analytics and machine learning to optimize energy consumption in buildings, industrial processes, and transportation systems. Smart Grids and Renewable Energy Integration: Design intelligent grid systems that incorporate renewable energy sources such as solar and wind power, along with energy storage technologies. These systems can dynamically balance supply and demand, enhance grid stability, and facilitate the integration of distributed energy resources.\n"
          ]
        }
      ],
      "source": [
        "\n",
        "# Example usage\n",
        "text=input(\"\\nEnter the text u want to summarize:\\n\")\n",
        "n=int(input(\"\\nEnter the no. of sentences: \"))\n",
        "summary = text_summarizer(text)\n",
        "print(summary)"
      ]
    }
  ],
  "metadata": {
    "colab": {
      "provenance": []
    },
    "kernelspec": {
      "display_name": "myproject",
      "language": "python",
      "name": "python3"
    },
    "language_info": {
      "codemirror_mode": {
        "name": "ipython",
        "version": 3
      },
      "file_extension": ".py",
      "mimetype": "text/x-python",
      "name": "python",
      "nbconvert_exporter": "python",
      "pygments_lexer": "ipython3",
      "version": "3.10.0"
    },
    "vscode": {
      "interpreter": {
        "hash": "0596493d71c1d7e07670ead54cd53b4f824399dceff9eb021a9645f9e98e0566"
      }
    }
  },
  "nbformat": 4,
  "nbformat_minor": 0
}
